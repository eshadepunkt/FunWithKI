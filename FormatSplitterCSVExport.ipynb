{
 "cells": [
  {
   "cell_type": "code",
   "execution_count": 51,
   "metadata": {},
   "outputs": [],
   "source": [
    "import pandas as pd\n",
    "import numpy as np\n",
    "\n",
    "# read in the data from csv\n",
    "\n",
    "df = pd.read_csv('C:\\\\Users\\\\Martin\\\\Nextcloud\\\\01-martin-nici_2024-01-16_export.csv', sep=',', header=0, encoding='utf-8')"
   ]
  },
  {
   "cell_type": "code",
   "execution_count": 52,
   "metadata": {},
   "outputs": [],
   "source": [
    "# take the \"Datum\" column and format it as a date as dd.mm.yyyy\n",
    "\n",
    "df['Datum'] = pd.to_datetime(df['Datum'], format='%Y-%m-%d' )\n",
    "df['Datum'] = df['Datum'].dt.strftime('%d.%m.%Y')\n",
    "\n",
    "# replace the . in the \"Kosten\", \"Nicole Freiberger\" and \"Martin Freiberger\" columns with a ,\n",
    "\n",
    "df['Kosten'] = df['Kosten'].astype(str).str.replace('.',',', regex=True)\n",
    "df['Nicole Freiberger'] = df['Nicole Freiberger'].astype(str).str.replace('.',',', regex=True)\n",
    "df['Martin Freiberger'] = df['Martin Freiberger'].astype(str).str.replace('.',',', regex=True)\n"
   ]
  },
  {
   "cell_type": "code",
   "execution_count": 53,
   "metadata": {},
   "outputs": [],
   "source": [
    "# write the data to a new csv file\n",
    "\n",
    "df.to_csv('C:\\\\Users\\\\Martin\\\\Nextcloud\\\\01-martin-nici_2024-01-16_export_new.csv', sep=',', index=False, header=True, encoding='utf-8')"
   ]
  }
 ],
 "metadata": {
  "kernelspec": {
   "display_name": "Python 3",
   "language": "python",
   "name": "python3"
  },
  "language_info": {
   "codemirror_mode": {
    "name": "ipython",
    "version": 3
   },
   "file_extension": ".py",
   "mimetype": "text/x-python",
   "name": "python",
   "nbconvert_exporter": "python",
   "pygments_lexer": "ipython3",
   "version": "3.10.11"
  }
 },
 "nbformat": 4,
 "nbformat_minor": 2
}
